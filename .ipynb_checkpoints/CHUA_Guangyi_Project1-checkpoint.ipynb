{
 "cells": [
  {
   "cell_type": "markdown",
   "metadata": {},
   "source": [
    "<img src=\"http://imgur.com/1ZcRyrc.png\" style=\"float: left; margin: 15px; height: 80px\">\n",
    "\n",
    "# Project 1\n",
    "\n",
    "### Building \"Pokemon Stay\"\n",
    "\n",
    "---\n",
    "You are an analyst at a \"scrappy\" online gaming company that specializes in remakes of last year's fads.\n",
    "\n",
    "Your boss, who runs the product development team, is convinced that Pokemon Go's fatal flaw was that you had to actually move around outside. She has design mock-ups for a new game called Pokemon Stay: in this version players still need to move, but just from website to website. Pokemon gyms are now popular online destinations, and catching Pokemon in the \"wild\" simply requires browsing the internet for hours in the comfort of your home.\n",
    "\n",
    "She wants you to program a prototype version of the game, and analyze the planned content to help the team calibrate the design."
   ]
  },
  {
   "cell_type": "markdown",
   "metadata": {},
   "source": [
    "#### Package imports"
   ]
  },
  {
   "cell_type": "code",
   "execution_count": 107,
   "metadata": {
    "collapsed": true
   },
   "outputs": [],
   "source": [
    "from pprint import pprint"
   ]
  },
  {
   "cell_type": "markdown",
   "metadata": {},
   "source": [
    "<img src=\"http://imgur.com/l5NasQj.png\" style=\"float: left; margin: 25px 15px 0px 0px; height: 25px\">\n",
    "\n",
    "## 1. Defining a player\n",
    "\n",
    "---\n",
    "\n",
    "The player variables are:\n",
    "\n",
    "    player_id : id code unique to each player (integer)\n",
    "    player_name : entered name of the player (string)\n",
    "    time_played : number of time played the game in minutes (float)\n",
    "    player_pokemon: the player's captured pokemon (dictionary)\n",
    "    gyms_visited: ids of the gyms that a player has visited (list)\n",
    "    \n",
    "Create the components for a player object by defining each of these variables. The dictionary and list variables should just be defined as empty; you can use any (correctly typed) values for the others."
   ]
  },
  {
   "cell_type": "code",
   "execution_count": 108,
   "metadata": {
    "collapsed": true
   },
   "outputs": [],
   "source": [
    "# Establish parameters as outlined in instructions above.\n",
    "player_id = 1\n",
    "player_name = \"Guang Yi\"\n",
    "time_played = 1000.\n",
    "player_pokemon = {}\n",
    "gyms_visited = []"
   ]
  },
  {
   "cell_type": "markdown",
   "metadata": {},
   "source": [
    "<img src=\"http://imgur.com/l5NasQj.png\" style=\"float: left; margin: 25px 15px 0px 0px; height: 25px\">\n",
    "\n",
    "## 2. Defining \"gym\" locations\n",
    "\n",
    "---\n",
    "\n",
    "As the sole programmer, Pokemon Stay will have to start small. To begin, there will be 10 different gym location websites on the internet. The gym locations are:\n",
    "\n",
    "    1. 'reddit.com'\n",
    "    2. 'amazon.com'\n",
    "    3. 'twitter.com'\n",
    "    4. 'linkedin.com'\n",
    "    5. 'ebay.com'\n",
    "    6. 'netflix.com'\n",
    "    7. 'sporcle.com'\n",
    "    8. 'stackoverflow.com'\n",
    "    9. 'github.com'\n",
    "    10. 'quora.com'\n",
    "\n",
    "1. Set up a list of all the gym locations. This will be a list of strings.\n",
    "2. Append two of these locations to your player's list of visited gyms.\n",
    "3. Print the list."
   ]
  },
  {
   "cell_type": "code",
   "execution_count": 109,
   "metadata": {},
   "outputs": [
    {
     "name": "stdout",
     "output_type": "stream",
     "text": [
      "The gym locations are: ['reddit.com', 'amazon.com', 'twitter.com', 'linkedin.com', 'ebay.com', 'netflix.com', 'sporcle.com', 'stackoverflow.com', 'github.com', 'quora.com']\n"
     ]
    }
   ],
   "source": [
    "# 1. Set up a list of all gym locations in list of strings\n",
    "gym_locations = ['reddit.com', 'amazon.com', 'twitter.com', 'linkedin.com','ebay.com','netflix.com',\n",
    "                'sporcle.com', 'stackoverflow.com', 'github.com', 'quora.com']\n",
    "\n",
    "# 2. Append two of these locations to my player's list of visited gyms. For ease of demonstration, I'm using the first\n",
    "# two items in the lists\n",
    "gyms_visited = [gym_locations[i] for i in range(2)]\n",
    "\n",
    "# 3. Print the list of gym_locations\n",
    "print \"The gym locations are:\", gym_locations"
   ]
  },
  {
   "cell_type": "markdown",
   "metadata": {},
   "source": [
    "<img src=\"http://imgur.com/l5NasQj.png\" style=\"float: left; margin: 25px 15px 0px 0px; height: 25px\">\n",
    "\n",
    "## 3. Create a pokedex\n",
    "\n",
    "---\n",
    "\n",
    "We also need to create some pokemon to catch. Each pokemon will be defined by these variables:\n",
    "\n",
    "    pokemon_id : unique identifier for each pokemon (integer)\n",
    "    name : the name of the pokemon (string)\n",
    "    type : the category of pokemon (string)\n",
    "    hp : base hitpoints (integer)\n",
    "    attack : base attack (integer)\n",
    "    defense : base defense (integer)\n",
    "    special_attack : base special attack (integer)\n",
    "    special_defense : base sepecial defense (integer)\n",
    "    speed : base speed (integer)\n",
    "\n",
    "We are only going to create 3 different pokemon with these `pokemon_id` and `pokemon_name` values:\n",
    "\n",
    "    1 : 'charmander'\n",
    "    2 : 'squirtle'\n",
    "    3 : 'bulbasaur'\n",
    "\n",
    "Create a dictionary that will contain the pokemon. The keys of the dictionary will be the `pokemon_id` and the values will themselves dictionaries that contain the other pokemon variables. The structure of the pokedex dictionary will start like so:\n",
    "     \n",
    "     {\n",
    "         1: {\n",
    "                 'name':'charmander',\n",
    "                 'type':'fire',\n",
    "                 ...\n",
    "                 \n",
    "The `type` of charmander, squirtle, and bulbasaur should be `'fire'`, `'water'`, and `'poison'` respectively. The other values are up to you, make them anything you like!\n",
    "\n",
    "Print (or pretty print) the pokedex dictionary with the 3 pokemon."
   ]
  },
  {
   "cell_type": "code",
   "execution_count": 110,
   "metadata": {},
   "outputs": [
    {
     "name": "stdout",
     "output_type": "stream",
     "text": [
      "{1: {'attack': 52,\n",
      "     'defense': 43,\n",
      "     'hp': 39,\n",
      "     'name': 'charmander',\n",
      "     'special attack': 60,\n",
      "     'special defense': 50,\n",
      "     'speed': 65,\n",
      "     'type': 'fire'},\n",
      " 2: {'attack': 48,\n",
      "     'defense': 65,\n",
      "     'hp': 44,\n",
      "     'name': 'squirtle',\n",
      "     'special attack': 50,\n",
      "     'special defense': 64,\n",
      "     'speed': 43,\n",
      "     'type': 'water'},\n",
      " 3: {'attack': 49,\n",
      "     'defense': 49,\n",
      "     'hp': 45,\n",
      "     'name': 'bulbasaur',\n",
      "     'special attack': 65,\n",
      "     'special defense': 65,\n",
      "     'speed': 45,\n",
      "     'type': 'poison'}}\n"
     ]
    }
   ],
   "source": [
    "# Initiate dictionary for 3 starter pokemon\n",
    "starter_pokemon = {}\n",
    "\n",
    "# Add the pokemon in dictionary form within the dictionaries. Base stats pulled from Veekun.com\n",
    "starter_pokemon[1] = {'name': 'charmander', 'type': 'fire', 'hp': 39, 'attack': 52, 'defense': 43, 'special attack': 60,\n",
    "                     'special defense': 50, 'speed': 65}\n",
    "starter_pokemon[2] = {'name': 'squirtle', 'type': 'water', 'hp': 44, 'attack': 48, 'defense': 65, 'special attack': 50,\n",
    "                     'special defense': 64, 'speed': 43}\n",
    "starter_pokemon[3] = {'name': 'bulbasaur', 'type': 'poison', 'hp': 45, 'attack': 49, 'defense': 49, 'special attack': 65,\n",
    "                     'special defense': 65, 'speed': 45}\n",
    "\n",
    "# Print the dictionary of starter pokemon\n",
    "pprint(starter_pokemon)"
   ]
  },
  {
   "cell_type": "markdown",
   "metadata": {},
   "source": [
    "<img src=\"http://imgur.com/l5NasQj.png\" style=\"float: left; margin: 25px 15px 0px 0px; height: 25px\">\n",
    "\n",
    "## 4. Create a data structure for players\n",
    "\n",
    "---\n",
    "\n",
    "### 4.1 \n",
    "\n",
    "In order to maintain a database of multiple players, create a dictionary that keeps track of players indexed by `player_id`. \n",
    "\n",
    "The keys of the dictionary will be `player_id` and values will be dictionaries containing each player's variables (from question 1). \n",
    "\n",
    "Construct the `players` dictionary and insert the player that you defined in question 1, then print `players`."
   ]
  },
  {
   "cell_type": "code",
   "execution_count": 111,
   "metadata": {},
   "outputs": [
    {
     "name": "stdout",
     "output_type": "stream",
     "text": [
      "{1: {'Gyms Visited': ['reddit.com', 'amazon.com'],\n",
      "     'Player ID': 1,\n",
      "     'Player Name': 'Guang Yi',\n",
      "     \"Player's Pokemon\": {},\n",
      "     'Time Played in Minutes': 1000.0}}\n"
     ]
    }
   ],
   "source": [
    "# Create a dictionary to track the players\n",
    "players = {}\n",
    "\n",
    "# Populate the data of Player 1\n",
    "players[1] = {\"Player ID\": player_id, \"Player Name\": player_name, \"Time Played in Minutes\": time_played,\n",
    "                    \"Player's Pokemon\": player_pokemon, \"Gyms Visited\": gyms_visited}\n",
    "\n",
    "# Print the player dictionary\n",
    "pprint(players)"
   ]
  },
  {
   "cell_type": "markdown",
   "metadata": {},
   "source": [
    "---\n",
    "\n",
    "### 4.2\n",
    "\n",
    "Create a new player with `player_id = 2` in the `players` dictionary. Leave the `'player_pokemon'` dictionary empty. Append `'alcatraz'` and `'pacific_beach'` to the `'gyms_visited'` list for player 2.\n",
    "\n",
    "The `'player_name'` and `'time_played'` values are up to you, but must be a string and float, respectively.\n",
    "\n",
    "Remember, the player_id is the key for the player in the players dictionary.\n",
    "\n",
    "Print the `players` dictionary with the new player inserted."
   ]
  },
  {
   "cell_type": "code",
   "execution_count": 112,
   "metadata": {},
   "outputs": [
    {
     "name": "stdout",
     "output_type": "stream",
     "text": [
      "{1: {'Gyms Visited': ['reddit.com', 'amazon.com'],\n",
      "     'Player ID': 1,\n",
      "     'Player Name': 'Guang Yi',\n",
      "     \"Player's Pokemon\": {},\n",
      "     'Time Played in Minutes': 1000.0},\n",
      " 2: {'Gyms Visited': ['alcatraz', 'pacific_beach'],\n",
      "     'Player ID': 2,\n",
      "     'Player Name': 'Ben',\n",
      "     \"Player's Pokemon\": {},\n",
      "     'Time Played in Minutes': 1250.0}}\n"
     ]
    }
   ],
   "source": [
    "# Establish parameters for Player 2\n",
    "player2_id = 2\n",
    "player2_name = \"Ben\"\n",
    "time2_played = 1250.\n",
    "player2_pokemon = {}\n",
    "gyms2_visited = ['alcatraz', 'pacific_beach']\n",
    "\n",
    "# Add Player 2 to the dictionary of players\n",
    "players[2] = {\"Player ID\": player2_id, \"Player Name\": player2_name, \"Time Played in Minutes\": time2_played,\n",
    "                    \"Player's Pokemon\": player2_pokemon, \"Gyms Visited\": gyms2_visited}\n",
    "\n",
    "# Print updated players dictionary\n",
    "pprint(players)"
   ]
  },
  {
   "cell_type": "markdown",
   "metadata": {},
   "source": [
    "<img src=\"http://imgur.com/l5NasQj.png\" style=\"float: left; margin: 25px 15px 0px 0px; height: 25px\">\n",
    "\n",
    "## 5. Add captured pokemon for each player\n",
    "\n",
    "---\n",
    "\n",
    "The `'player_pokemon'` keyed dictionaries for each player keep track of which of the pokemon each player has.\n",
    "\n",
    "The keys of the `'player_pokemon'` dictionaries are the pokemon ids that correspond to the ids in the `pokedex` dictionary you created earlier. The values are integers specifying the stats for the pokemon.\n",
    "\n",
    "Give player 1 a squirtle. Give player 2 charmander and a bulbasaur.\n",
    "\n",
    "Print the players dictionary after adding the pokemon for each player.\n"
   ]
  },
  {
   "cell_type": "code",
   "execution_count": 127,
   "metadata": {
    "scrolled": false
   },
   "outputs": [
    {
     "name": "stdout",
     "output_type": "stream",
     "text": [
      "{1: {'Gyms Visited': ['reddit.com', 'amazon.com'],\n",
      "     'Player ID': 1,\n",
      "     'Player Name': 'Guang Yi',\n",
      "     \"Player's Pokemon\": {1: {'attack': 48,\n",
      "                              'defense': 65,\n",
      "                              'hp': 44,\n",
      "                              'name': 'squirtle',\n",
      "                              'special attack': 50,\n",
      "                              'special defense': 64,\n",
      "                              'speed': 43,\n",
      "                              'type': 'water'}},\n",
      "     'Time Played in Minutes': 1000.0},\n",
      " 2: {'Gyms Visited': ['alcatraz', 'pacific_beach'],\n",
      "     'Player ID': 2,\n",
      "     'Player Name': 'Ben',\n",
      "     \"Player's Pokemon\": {1: {'attack': 52,\n",
      "                              'defense': 43,\n",
      "                              'hp': 39,\n",
      "                              'name': 'charmander',\n",
      "                              'special attack': 60,\n",
      "                              'special defense': 50,\n",
      "                              'speed': 65,\n",
      "                              'type': 'fire'},\n",
      "                          2: {'attack': 49,\n",
      "                              'defense': 49,\n",
      "                              'hp': 45,\n",
      "                              'name': 'bulbasaur',\n",
      "                              'special attack': 65,\n",
      "                              'special defense': 65,\n",
      "                              'speed': 45,\n",
      "                              'type': 'poison'}},\n",
      "     'Time Played in Minutes': 1250.0}}\n"
     ]
    }
   ],
   "source": [
    "# Give Player 1 a Squirtle, and give Player 2 a Bulbasaur and a Charmander\n",
    "players[1][\"Player's Pokemon\"] = {1: starter_pokemon[2]}\n",
    "players[2][\"Player's Pokemon\"] = {1: starter_pokemon[1], 2: starter_pokemon[3]}\n",
    "\n",
    "# Print updated players dictionary\n",
    "pprint(players)"
   ]
  },
  {
   "cell_type": "markdown",
   "metadata": {},
   "source": [
    "\n",
    "\n",
    "## 6. What gyms have players visited?\n",
    "\n",
    "---\n",
    "<img src=\"http://imgur.com/l5NasQj.png\" style=\"float: left; margin: 25px 15px 0px 0px; height: 25px\">\n",
    "### 6.1\n",
    "\n",
    "Update the gym list so that it now includes the new entries, Alcatraz and Pacific Beach.\n",
    "\n",
    "Write a for-loop that:\n",
    "\n",
    "1. Iterates through the `pokemon_gyms` list of gym locations you defined before.\n",
    "2. For each gym, iterate through each player in the `players` dictionary with a second, internal for-loop.\n",
    "3. If the player has visited the gym, print out \"[player] has visited [gym location].\", filling in [player] and [gym location] with the current player's name and current gym location."
   ]
  },
  {
   "cell_type": "code",
   "execution_count": 114,
   "metadata": {},
   "outputs": [
    {
     "name": "stdout",
     "output_type": "stream",
     "text": [
      "['reddit.com',\n",
      " 'amazon.com',\n",
      " 'twitter.com',\n",
      " 'linkedin.com',\n",
      " 'ebay.com',\n",
      " 'netflix.com',\n",
      " 'sporcle.com',\n",
      " 'stackoverflow.com',\n",
      " 'github.com',\n",
      " 'quora.com',\n",
      " 'alcatraz',\n",
      " 'pacific_beach']\n"
     ]
    }
   ],
   "source": [
    "# Update the gym locations list with \"Alcatraz\" and \"Pacific Beach\", as it was not included in the initial list\n",
    "gym_locations.append('alcatraz')\n",
    "gym_locations.append('pacific_beach')\n",
    "pprint(gym_locations)"
   ]
  },
  {
   "cell_type": "code",
   "execution_count": 115,
   "metadata": {},
   "outputs": [
    {
     "name": "stdout",
     "output_type": "stream",
     "text": [
      "Guang Yi has visited reddit.com\n",
      "Guang Yi has visited amazon.com\n",
      "Ben has visited alcatraz\n",
      "Ben has visited pacific_beach\n"
     ]
    }
   ],
   "source": [
    "# Create first loop that iterates through the list of gym locations (gym_locations)\n",
    "for a in range(len(gym_locations)) :\n",
    "    \n",
    "    # Create second for loop that iterates through each player\n",
    "    for b in players :\n",
    "        \n",
    "        # Create third for loop that iterates through player's list of gyms visited\n",
    "        for c in range(len(players[b][\"Gyms Visited\"])) :\n",
    "            \n",
    "            # Check if the player has visited the gym or not\n",
    "            if players[b][\"Gyms Visited\"][c] == gym_locations[a] :\n",
    "                print players[b][\"Player Name\"], \"has visited\", players[b][\"Gyms Visited\"][c]\n"
   ]
  },
  {
   "cell_type": "markdown",
   "metadata": {},
   "source": [
    "<img src=\"http://imgur.com/xDpSobf.png\" style=\"float: left; margin: 25px 15px 0px 0px; height: 25px\">\n",
    "### 6.2\n",
    "\n",
    "How many times did that loop run? If you have N gyms and also N players, how many times would it run as a function of N?\n",
    "\n",
    "Can you think of a more efficient way to accomplish the same thing? \n",
    "\n",
    "(You can write your answer as Markdown text.)"
   ]
  },
  {
   "cell_type": "markdown",
   "metadata": {
    "collapsed": true
   },
   "source": [
    "---\n",
    "\n",
    "**In the above, the loops ran a total of 48 times. This number comes from:**\n",
    "\n",
    "a loop runs 12 times (total number of gyms)\n",
    "\n",
    "b loop runs 2 times (total number of players)\n",
    "\n",
    "c loop runs 2 times (number of gyms visited)\n",
    "\n",
    "Number of loops = abc = (12)(2)(2) = 48\n",
    "\n",
    "---\n",
    "\n",
    "**For the second part of this question, given:** \n",
    "\n",
    "A = number of players \n",
    "\n",
    "B = number of gyms visited \n",
    "\n",
    "C = total number of gyms\n",
    "\n",
    "**And given the assumptions:**\n",
    "\n",
    "A = C = N\n",
    "\n",
    "a loop runs 12 times\n",
    "\n",
    "b loop runs N times\n",
    "\n",
    "c loop runs N times\n",
    "\n",
    "**The loop would run:**\n",
    "\n",
    "(12)(N)(N) times\n",
    "    \n",
    "---\n",
    "\n",
    "** What would be a more efficient way to write this code? **\n",
    "\n",
    "I would utilize list comprehensions.\n",
    "\n"
   ]
  },
  {
   "cell_type": "markdown",
   "metadata": {},
   "source": [
    "<img src=\"http://imgur.com/l5NasQj.png\" style=\"float: left; margin: 25px 15px 0px 0px; height: 25px\">\n",
    "\n",
    "## 7. Calculate player \"power\".\n",
    "\n",
    "---\n",
    "\n",
    "Define a function that will calculate a player's \"power\". Player power is defined as the sum of the base statistics all of their pokemon.\n",
    "\n",
    "Your function will:\n",
    "\n",
    "1. Accept the `players` dictionary, `pokedex` dictionary, and a player_id as arguments.\n",
    "2. For the specified player_id, look up that player's pokemon.\n",
    "3. Find and aggregate the attack and defense values for each of the player's pokemon from the `pokedex` dictionary.\n",
    "4. Print \"[player name]'s power is [player power].\", where the player power is the sum of the base statistics for all of their pokemon.\n",
    "5. Return the player's power value.\n",
    "\n",
    "Print out the pokemon power for each of your players."
   ]
  },
  {
   "cell_type": "code",
   "execution_count": 219,
   "metadata": {},
   "outputs": [
    {
     "name": "stdout",
     "output_type": "stream",
     "text": [
      "The player power for Guang Yi is 227\n",
      "The player power for Ben is 456\n"
     ]
    },
    {
     "data": {
      "text/plain": [
       "456"
      ]
     },
     "execution_count": 219,
     "metadata": {},
     "output_type": "execute_result"
    }
   ],
   "source": [
    "def player_power(player_dict, poke_dict, player_id) :\n",
    "    \n",
    "    # Convert player_id from string to integer for easier referencing. \n",
    "    # Then, create a list of the player's captured pokemon.\n",
    "    # Pre-allocate attack and defense lists\n",
    "    player_id = int(player_id)\n",
    "    captured_pokemon = player_dict[player_id][\"Player's Pokemon\"]\n",
    "    attack = []\n",
    "    defense = []\n",
    "    \n",
    "    # The first for loop iterates over the length of the Pokedex, which currently only contains 3 starter pokemon.\n",
    "    for a in poke_dict :\n",
    "        \n",
    "        # If the player has only captured one pokemon, the calculations are done here.\n",
    "        if len((player_dict)[player_id][\"Player's Pokemon\"]) == 1 :\n",
    "            if captured_pokemon[1][\"name\"] == poke_dict[a][\"name\"] :\n",
    "                attack.append(poke_dict[a][\"attack\"] + poke_dict[a][\"special attack\"])\n",
    "                defense.append(poke_dict[a][\"defense\"] + poke_dict[a][\"special defense\"])\n",
    "        \n",
    "        # If the player has captured more than one pokemon, the calculations are done here.\n",
    "        elif len((player_dict)[player_id][\"Player's Pokemon\"]) > 1 :\n",
    "            for b in captured_pokemon :\n",
    "                if captured_pokemon[player_id][\"name\"] == poke_dict[a][\"name\"] :\n",
    "                    attack.append(poke_dict[a][\"attack\"]) \n",
    "                    attack.append(poke_dict[a][\"special attack\"])\n",
    "                    defense.append(poke_dict[a][\"defense\"])\n",
    "                    defense.append(poke_dict[a][\"special defense\"])\n",
    "                    \n",
    "        # On the off-chance the player has not captured any pokemon, this will return a power of 0.\n",
    "        else :\n",
    "            attack = 0\n",
    "            defense = 0\n",
    "                    \n",
    "    player_power = sum(attack) + sum(defense)\n",
    "    print 'The player power for', player_dict[player_id][\"Player Name\"], 'is', player_power\n",
    "    return player_power\n",
    "    \n",
    "\n",
    "# Call the function here\n",
    "player_power(players, starter_pokemon, 1)\n",
    "player_power(players, starter_pokemon, 2)\n"
   ]
  },
  {
   "cell_type": "markdown",
   "metadata": {
    "collapsed": true
   },
   "source": [
    "## 8. Load a pokedex file containing all the pokemon\n",
    "<img src=\"http://imgur.com/l5NasQj.png\" style=\"float: left; margin: 25px 15px 0px 0px; height: 25px\"> \n",
    "### 8.1\n",
    "---\n",
    "\n",
    "While you were putting together the prototype code, your colleagues were preparing a dataset of Pokemon and their attributes. (This was a rush job, so they may have picked some crazy values for some...)\n",
    "\n",
    "The code below loads information from a comma separated value (csv) file. You need to parse this string into a more useable format. The format of the string is:\n",
    "\n",
    "- Rows are separated by newline characters: \\n\n",
    "- Columns are separated by commas: ,\n",
    "- All cells in the csv are double quoted. Ex: \"PokedexNumber\" is the first cell of the first row.\n",
    "\n",
    "\n",
    "Using for-loops, create a list of lists where each list within the overall list is a row of the csv/matrix, and each element in that list is a cell in that row. Additional criteria:\n",
    "\n",
    "1. Quotes are removed from each cell item.\n",
    "2. Numeric column values are converted to floats.\n",
    "3. There are some cells that are empty and have no information. For these cells put a -1 value in place.\n",
    "\n",
    "Your end result is effectively a matrix. Each list in the outer list is a row, and the *j*th elements of list together form the *j*th column, which represents a data attribute. The first three lists in your pokedex list should look like this:\n",
    "\n",
    "    ['PokedexNumber', 'Name', 'Type', 'Total', 'HP', 'Attack', 'Defense', 'SpecialAttack', 'SpecialDefense', 'Speed']\n",
    "    [1.0, 'Bulbasaur', 'GrassPoison', 318.0, 45.0, 49.0, 49.0, 65.0, 65.0, 45.0]\n",
    "    [2.0, 'Ivysaur', 'GrassPoison', 405.0, 60.0, 62.0, 63.0, 80.0, 80.0, 60.0]"
   ]
  },
  {
   "cell_type": "code",
   "execution_count": 11,
   "metadata": {
    "collapsed": true
   },
   "outputs": [],
   "source": [
    "# Code to read in pokedex info. #This code was given by General Assembly and was not part of my original code\n",
    "raw_pd = ''\n",
    "pokedex_file = 'pokedex_basic.csv'\n",
    "with open(pokedex_file,'r') as f:\n",
    "    raw_pd = f.read()\n",
    "   \n",
    "# The pokedex string is assigned to the raw_pd variable"
   ]
  },
  {
   "cell_type": "code",
   "execution_count": 44,
   "metadata": {},
   "outputs": [],
   "source": [
    "# Convert data to Python-friendly format by removing the quotation marks, and then removing \"\\n\" and \",\" separators \n",
    "data_no_quotes = raw_pd.replace('\"','')\n",
    "raw_split_1 = data_no_quotes.split(\"\\n\")\n",
    "clean = []\n",
    "\n",
    "for a in range(len(raw_split_1)) :\n",
    "    raw_split_2 = raw_split_1[a].split(\",\")\n",
    "    clean.append(raw_split_2)\n",
    "\n",
    "# Convert strings with numbers to integers, and convert strings to lowercase \n",
    "for b in range(len(clean)) :\n",
    "    for c in range(len(clean[b])) :\n",
    "        try :\n",
    "            clean[b][c] = float(clean[b][c])\n",
    "        except :\n",
    "            clean[b][c] = clean[b][c].lower()\n"
   ]
  },
  {
   "cell_type": "markdown",
   "metadata": {},
   "source": [
    "<img src=\"http://imgur.com/xDpSobf.png\" style=\"float: left; margin: 25px 15px 0px 0px; height: 25px\">\n",
    "\n",
    "### 8.2 Parse the raw pokedex with list comprehensions\n",
    "\n",
    "---\n",
    "\n",
    "Perform the same parsing as above, but **using only a single list comprehension** instead of for loops. You may have nested list comprehensions within the main list comprehension! The output should be exactly the same."
   ]
  },
  {
   "cell_type": "code",
   "execution_count": null,
   "metadata": {
    "collapsed": true
   },
   "outputs": [],
   "source": [
    "# Convert data to Python-friendly format by removing the quotation marks, and then removing \"\\n\" and \",\" separators \n",
    "data_no_quotes = raw_pd.replace('\"','')\n",
    "raw_split_1 = data_no_quotes.split(\"\\n\")\n",
    "clean = []\n",
    "\n"
   ]
  },
  {
   "cell_type": "markdown",
   "metadata": {},
   "source": [
    "<img src=\"http://imgur.com/l5NasQj.png\" style=\"float: left; margin: 25px 15px 0px 0px; height: 25px\">\n",
    "\n",
    "### 8.3 Write a function to generate the full pokedex\n",
    "\n",
    "---\n",
    "\n",
    "Write a function that recreates the pokedex you made before, but with the data read in from the full pokemon file. The `PokedexNumber` should be used as the `pokemon_id` key values for the dictionary of pokemon.\n",
    "\n",
    "Your function should:\n",
    "\n",
    "1. Take the parsed pokedex information you created above as an argument.\n",
    "2. Return a dictionary in the same format as your original pokedex you created before containing the information from the parsed full pokedex file.\n",
    "\n",
    "To test the function, print out the pokemon with id = 100."
   ]
  },
  {
   "cell_type": "code",
   "execution_count": null,
   "metadata": {
    "collapsed": true,
    "scrolled": true
   },
   "outputs": [],
   "source": []
  },
  {
   "cell_type": "markdown",
   "metadata": {
    "collapsed": true
   },
   "source": [
    "\n",
    "## 9. Descriptive statistics on the prototype pokedex\n",
    "\n",
    "<img src=\"http://imgur.com/l5NasQj.png\" style=\"float: left; margin: 25px 15px 0px 0px; height: 25px\">\n",
    "### 9.1\n",
    "\n",
    "What is the population mean and standard deviation of the \"Total\" attribute for all characters in the Pokedex?\n",
    "\n"
   ]
  },
  {
   "cell_type": "code",
   "execution_count": null,
   "metadata": {
    "collapsed": true
   },
   "outputs": [],
   "source": []
  },
  {
   "cell_type": "markdown",
   "metadata": {},
   "source": [
    "<img src=\"http://imgur.com/l5NasQj.png\" style=\"float: left; margin: 25px 15px 0px 0px; height: 25px\">\n",
    "### 9.2\n",
    "\n",
    "The game is no fun if the characters are wildly unbalanced! Are any characters \"overpowered\", which we'll define as having a \"Total\" more than three standard deviations from the population mean?"
   ]
  },
  {
   "cell_type": "code",
   "execution_count": null,
   "metadata": {
    "collapsed": true
   },
   "outputs": [],
   "source": []
  },
  {
   "cell_type": "markdown",
   "metadata": {},
   "source": [
    "<img src=\"http://imgur.com/xDpSobf.png\" style=\"float: left; margin: 25px 15px 0px 0px; height: 25px\">\n",
    "\n",
    "## 10. Calibrate the frequency of Pokemon\n",
    "\n",
    "The design team wants you to make the powerful Pokemon rare, and the weaklings more common. How would you set the probability $p_i$ of finding Pokemon *i* each time a player visits a gym?\n",
    "\n",
    "Write a function that takes in a Pokedex number and returns a value $p_i$ for that character.\n",
    "\n",
    "Hint: there are many ways you could do this. What do _you_ think makes sense? Start with simplifying assumptions: for example, you could assume that the probabilities of encountering any two Pokemon on one visit to a gym are independent of each other."
   ]
  },
  {
   "cell_type": "code",
   "execution_count": null,
   "metadata": {
    "collapsed": true
   },
   "outputs": [],
   "source": []
  },
  {
   "cell_type": "markdown",
   "metadata": {},
   "source": [
    "<img src=\"http://i.imgur.com/GCAf1UX.png\" style=\"float: left; margin: 25px 15px 0px 0px; height: 25px\">\n",
    "\n",
    "## 11. Write a function to generate a \"filtered\" pokedex\n",
    "---\n",
    "Your function should:\n",
    "1. Take the parsed pokedex information you created above as an argument.\n",
    "1. Take a dictionary as a parameter with keys matching the features of the Pokedex, filtering by exact match for string type values, and/or filter continuous variables specified value that is greater than or equal to the dictionary key parameter.\n",
    "1. Return multiple elements from the Pokedex\n",
    "\n",
    "Example:\n",
    "\n",
    "```python\n",
    "\n",
    "# Only filter based on parameters passed\n",
    "filter_options = {\n",
    "    'Attack':   25,\n",
    "    'Defense':  30,\n",
    "    'Type':     'Electric'\n",
    "}\n",
    "\n",
    "# Return records with attack >= 24, defense >= 30, and type == \"Electric\"\n",
    "# Also anticipate that other paramters can also be passed such as \"SpecialAttack\", \"Speed\", etc.\n",
    "filtered_pokedex(pokedex_data, filter=filter_options)\n",
    "\n",
    "# Example output:\n",
    "# [{'Attack': 30.0,\n",
    "#  'Defense': 50.0,\n",
    "#  'HP': 40.0,\n",
    "#  'Name': 'Voltorb',\n",
    "#  'SpecialAttack': 55.0,\n",
    "#  'SpecialDefense': 55.0,\n",
    "#  'Speed': 100.0,\n",
    "#  'Total': 330.0,\n",
    "#  'Type': 'Electric'},\n",
    "#  {'Attack': 30.0,\n",
    "#  'Defense': 33.0,\n",
    "#  'HP': 32.0,\n",
    "#  'Name': 'Pikachu',\n",
    "#  'SpecialAttack': 55.0,\n",
    "#  'SpecialDefense': 55.0,\n",
    "#  'Speed': 100.0,\n",
    "#  'Total': 330.0,\n",
    "#  'Type': 'Electric'},\n",
    "#  ... etc\n",
    "#  ]\n",
    "\n",
    "```\n",
    "\n",
    "\n",
    "\n"
   ]
  },
  {
   "cell_type": "code",
   "execution_count": null,
   "metadata": {
    "collapsed": true
   },
   "outputs": [],
   "source": []
  }
 ],
 "metadata": {
  "anaconda-cloud": {},
  "kernelspec": {
   "display_name": "Python 2",
   "language": "python",
   "name": "python2"
  },
  "language_info": {
   "codemirror_mode": {
    "name": "ipython",
    "version": 2
   },
   "file_extension": ".py",
   "mimetype": "text/x-python",
   "name": "python",
   "nbconvert_exporter": "python",
   "pygments_lexer": "ipython2",
   "version": "2.7.13"
  }
 },
 "nbformat": 4,
 "nbformat_minor": 1
}
